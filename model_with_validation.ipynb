{
 "cells": [
  {
   "cell_type": "markdown",
   "metadata": {},
   "source": [
    "### Imports"
   ]
  },
  {
   "cell_type": "code",
   "execution_count": 2,
   "metadata": {
    "execution": {
     "iopub.execute_input": "2023-04-26T21:12:41.172548Z",
     "iopub.status.busy": "2023-04-26T21:12:41.172220Z",
     "iopub.status.idle": "2023-04-26T21:12:45.521588Z",
     "shell.execute_reply": "2023-04-26T21:12:45.518573Z",
     "shell.execute_reply.started": "2023-04-26T21:12:41.172516Z"
    }
   },
   "outputs": [],
   "source": [
    "import os\n",
    "import gc\n",
    "import glob\n",
    "import json\n",
    "from collections import defaultdict\n",
    "import multiprocessing as mp\n",
    "from pathlib import Path\n",
    "from types import SimpleNamespace\n",
    "from typing import Dict, List, Optional, Tuple\n",
    "import warnings\n",
    "\n",
    "import matplotlib.pyplot as plt\n",
    "import matplotlib.patches as patches\n",
    "import numpy as np\n",
    "import pandas as pd\n",
    "import PIL.Image as Image\n",
    "from sklearn.metrics import fbeta_score\n",
    "from sklearn.exceptions import UndefinedMetricWarning\n",
    "import torch\n",
    "import torch.nn as nn\n",
    "import torch.optim as optim\n",
    "import torch.utils.data as data\n",
    "from tqdm import tqdm"
   ]
  },
  {
   "cell_type": "markdown",
   "metadata": {},
   "source": [
    "### Set up data"
   ]
  },
  {
   "cell_type": "code",
   "execution_count": 3,
   "metadata": {
    "execution": {
     "iopub.execute_input": "2023-04-26T21:12:52.072242Z",
     "iopub.status.busy": "2023-04-26T21:12:52.071682Z",
     "iopub.status.idle": "2023-04-26T21:12:52.101676Z",
     "shell.execute_reply": "2023-04-26T21:12:52.100200Z",
     "shell.execute_reply.started": "2023-04-26T21:12:52.072207Z"
    }
   },
   "outputs": [],
   "source": [
    "PREFIX = 'train/1/'\n",
    "BUFFER = 30  # Buffer size in x and y direction\n",
    "Z_START = 27 # First slice in the z direction to use\n",
    "Z_DIM = 10   # Number of slices in the z direction\n",
    "TRAINING_STEPS = 30000\n",
    "LEARNING_RATE = 0.03\n",
    "BATCH_SIZE = 32\n",
    "DEVICE = torch.device(\"cuda\" if torch.cuda.is_available() else \"cpu\")"
   ]
  },
  {
   "cell_type": "code",
   "execution_count": 4,
   "metadata": {},
   "outputs": [],
   "source": [
    "class SubvolumeDataset(data.Dataset):\n",
    "    def __init__(self, image_stack, label, pixels):\n",
    "        self.image_stack = image_stack\n",
    "        self.label = label\n",
    "        self.pixels = pixels\n",
    "    def __len__(self):\n",
    "        return len(self.pixels)\n",
    "    def __getitem__(self, index):\n",
    "        y, x = self.pixels[index]\n",
    "        subvolume = self.image_stack[:, y-BUFFER:y+BUFFER+1, x-BUFFER:x+BUFFER+1].view(1, Z_DIM, BUFFER*2+1, BUFFER*2+1)\n",
    "        inklabel = self.label[y, x].view(1)\n",
    "        return subvolume, inklabel   "
   ]
  },
  {
   "cell_type": "code",
   "execution_count": 5,
   "metadata": {
    "execution": {
     "iopub.execute_input": "2023-04-26T21:12:57.538212Z",
     "iopub.status.busy": "2023-04-26T21:12:57.537472Z",
     "iopub.status.idle": "2023-04-26T21:12:57.549031Z",
     "shell.execute_reply": "2023-04-26T21:12:57.547705Z",
     "shell.execute_reply.started": "2023-04-26T21:12:57.538173Z"
    }
   },
   "outputs": [
    {
     "name": "stdout",
     "output_type": "stream",
     "text": [
      "All fragments: ['.ipynb_checkpoints', '1', '2', '3']\n"
     ]
    },
    {
     "data": {
      "text/plain": [
       "[PosixPath('train/1')]"
      ]
     },
     "execution_count": 5,
     "metadata": {},
     "output_type": "execute_result"
    }
   ],
   "source": [
    "base_path = Path(\"\")\n",
    "train_path = base_path / \"train\"\n",
    "all_fragments = sorted([f.name for f in train_path.iterdir()])\n",
    "print(\"All fragments:\", all_fragments)\n",
    "# Due to limited memory on Kaggle, we can only load 1 full fragment\n",
    "train_fragments = [train_path / fragment_name for fragment_name in [\"1\"]]\n",
    "train_fragments"
   ]
  },
  {
   "cell_type": "code",
   "execution_count": 6,
   "metadata": {},
   "outputs": [
    {
     "name": "stderr",
     "output_type": "stream",
     "text": [
      "100%|██████████| 10/10 [00:02<00:00,  3.60it/s]\n"
     ]
    }
   ],
   "source": [
    "images = [np.array(Image.open(filename), dtype=np.float32)/65535.0 for filename in tqdm(sorted(glob.glob(\"train/1/surface_volume/*.tif\"))[Z_START:Z_START+Z_DIM])]\n",
    "image_stack = torch.stack([torch.from_numpy(image) for image in images], dim=0).to(DEVICE)"
   ]
  },
  {
   "cell_type": "code",
   "execution_count": 7,
   "metadata": {},
   "outputs": [],
   "source": [
    "mask = np.array(Image.open(PREFIX+\"mask.png\").convert('1'))\n",
    "label = torch.from_numpy(np.array(Image.open(PREFIX+\"inklabels.png\"))).gt(0).float().to(DEVICE)"
   ]
  },
  {
   "cell_type": "code",
   "execution_count": 8,
   "metadata": {},
   "outputs": [
    {
     "data": {
      "image/png": "[encoded data removed]",
      "text/plain": [
       "<Figure size 432x288 with 1 Axes>"
      ]
     },
     "metadata": {
      "needs_background": "light"
     },
     "output_type": "display_data"
    },
    {
     "name": "stdout",
     "output_type": "stream",
     "text": [
      "Generating pixel lists...\n"
     ]
    }
   ],
   "source": [
    "rect = (1100, 3500, 700, 950)\n",
    "#rect = (1500, 2500, 1200, 1200)\n",
    "fig, ax = plt.subplots()\n",
    "ax.imshow(label.cpu())\n",
    "patch = patches.Rectangle((rect[0], rect[1]), rect[2], rect[3], linewidth=2, edgecolor='r', facecolor='none')\n",
    "ax.add_patch(patch)\n",
    "plt.show()\n",
    "\n",
    "\n",
    "print(\"Generating pixel lists...\")\n",
    "# Split our dataset into train and val. The pixels inside the rect are the \n",
    "# val set, and the pixels outside the rect are the train set.\n",
    "# Adapted from https://www.kaggle.com/code/jamesdavey/100x-faster-pixel-coordinate-generator-1s-runtime\n",
    "# Create a Boolean array of the same shape as the bitmask, initially all True\n",
    "not_border = np.zeros(mask.shape, dtype=bool)\n",
    "not_border[BUFFER:mask.shape[0]-BUFFER, BUFFER:mask.shape[1]-BUFFER] = True\n",
    "arr_mask = np.array(mask) * not_border\n",
    "inside_rect = np.zeros(mask.shape, dtype=bool) * arr_mask\n",
    "# Sets all indexes with inside_rect array to True\n",
    "inside_rect[rect[1]:rect[1]+rect[3]+1, rect[0]:rect[0]+rect[2]+1] = True\n",
    "# Set the pixels within the inside_rect to False\n",
    "outside_rect = np.ones(mask.shape, dtype=bool) * arr_mask\n",
    "outside_rect[rect[1]:rect[1]+rect[3]+1, rect[0]:rect[0]+rect[2]+1] = False\n",
    "pixels_inside_rect = torch.tensor(np.argwhere(inside_rect)).to(DEVICE)\n",
    "pixels_outside_rect = torch.tensor(np.argwhere(outside_rect)).to(DEVICE)"
   ]
  },
  {
   "cell_type": "code",
   "execution_count": 9,
   "metadata": {
    "execution": {
     "iopub.execute_input": "2023-04-26T21:12:59.848356Z",
     "iopub.status.busy": "2023-04-26T21:12:59.847694Z",
     "iopub.status.idle": "2023-04-26T21:14:11.351989Z",
     "shell.execute_reply": "2023-04-26T21:14:11.350721Z",
     "shell.execute_reply.started": "2023-04-26T21:12:59.848317Z"
    }
   },
   "outputs": [
    {
     "name": "stdout",
     "output_type": "stream",
     "text": [
      "Num items (pixels) 666651\n",
      "CPU times: user 107 µs, sys: 28 µs, total: 135 µs\n",
      "Wall time: 750 µs\n"
     ]
    }
   ],
   "source": [
    "%%time\n",
    "train_dset = SubvolumeDataset(image_stack,label, pixels_inside_rect)\n",
    "print(\"Num items (pixels)\", len(train_dset))"
   ]
  },
  {
   "cell_type": "markdown",
   "metadata": {},
   "source": [
    "#### Sanity check "
   ]
  },
  {
   "cell_type": "code",
   "execution_count": null,
   "metadata": {
    "execution": {
     "iopub.execute_input": "2023-03-12T05:05:30.666631Z",
     "iopub.status.busy": "2023-03-12T05:05:30.665586Z",
     "iopub.status.idle": "2023-03-12T05:05:33.617639Z",
     "shell.execute_reply": "2023-03-12T05:05:33.61654Z",
     "shell.execute_reply.started": "2023-03-12T05:05:30.666591Z"
    }
   },
   "outputs": [],
   "source": []
  },
  {
   "cell_type": "code",
   "execution_count": 11,
   "metadata": {
    "execution": {
     "iopub.execute_input": "2023-03-12T05:05:37.721697Z",
     "iopub.status.busy": "2023-03-12T05:05:37.72112Z",
     "iopub.status.idle": "2023-03-12T05:05:37.728779Z",
     "shell.execute_reply": "2023-03-12T05:05:37.727449Z",
     "shell.execute_reply.started": "2023-03-12T05:05:37.721655Z"
    }
   },
   "outputs": [
    {
     "name": "stdout",
     "output_type": "stream",
     "text": [
      "Num batches: 20833\n"
     ]
    }
   ],
   "source": [
    "BATCH_SIZE = 32\n",
    "train_loader = data.DataLoader(train_dset, batch_size=BATCH_SIZE, shuffle=True)\n",
    "print(\"Num batches:\", len(train_loader))"
   ]
  },
  {
   "cell_type": "markdown",
   "metadata": {},
   "source": [
    "### Set up model"
   ]
  },
  {
   "cell_type": "code",
   "execution_count": 12,
   "metadata": {
    "execution": {
     "iopub.execute_input": "2023-03-12T05:05:54.362969Z",
     "iopub.status.busy": "2023-03-12T05:05:54.361908Z",
     "iopub.status.idle": "2023-03-12T05:05:54.42694Z",
     "shell.execute_reply": "2023-03-12T05:05:54.42573Z",
     "shell.execute_reply.started": "2023-03-12T05:05:54.362932Z"
    }
   },
   "outputs": [
    {
     "data": {
      "text/plain": [
       "device(type='cuda')"
      ]
     },
     "execution_count": 12,
     "metadata": {},
     "output_type": "execute_result"
    }
   ],
   "source": [
    "DEVICE = torch.device(\"cuda\" if torch.cuda.is_available() else \"cpu\")\n",
    "DEVICE"
   ]
  },
  {
   "cell_type": "code",
   "execution_count": 13,
   "metadata": {
    "execution": {
     "iopub.execute_input": "2023-03-12T05:05:54.949516Z",
     "iopub.status.busy": "2023-03-12T05:05:54.949137Z",
     "iopub.status.idle": "2023-03-12T05:05:54.958963Z",
     "shell.execute_reply": "2023-03-12T05:05:54.957794Z",
     "shell.execute_reply.started": "2023-03-12T05:05:54.949478Z"
    }
   },
   "outputs": [],
   "source": [
    "class InkDetector(torch.nn.Module):\n",
    "    def __init__(self):\n",
    "        super().__init__()\n",
    "\n",
    "        filters = [16, 32, 64]\n",
    "        paddings = [1, 1, 1]\n",
    "        kernel_sizes = [3, 3, 3]\n",
    "        strides = [2, 2, 2]\n",
    "        \n",
    "        layers = []\n",
    "        in_channels = 1\n",
    "        for num_filters, padding, kernel_size, stride in zip(filters, paddings, kernel_sizes, strides):\n",
    "            layers.extend([\n",
    "                nn.Conv3d(\n",
    "                    in_channels=in_channels,\n",
    "                    out_channels=num_filters,\n",
    "                    kernel_size=kernel_size,\n",
    "                    stride=stride,\n",
    "                    padding=padding,\n",
    "                ),\n",
    "                nn.ReLU(inplace=True),\n",
    "                torch.nn.BatchNorm3d(num_features=num_filters)\n",
    "            ])\n",
    "            in_channels = num_filters\n",
    "        layers.append(nn.AdaptiveAvgPool3d(1))\n",
    "        layers.append(nn.Flatten())\n",
    "\n",
    "        self.encoder = nn.Sequential(*layers)\n",
    "        self.decoder = nn.Sequential(\n",
    "            nn.Linear(in_channels, 128),\n",
    "            nn.ReLU(inplace=True),\n",
    "            nn.Linear(128, 128),\n",
    "            nn.ReLU(inplace=True),\n",
    "            nn.Linear(128, 1)\n",
    "        )\n",
    "\n",
    "    def forward(self, x):\n",
    "        features = self.encoder(x)\n",
    "        return self.decoder(features)"
   ]
  },
  {
   "cell_type": "code",
   "execution_count": 14,
   "metadata": {
    "execution": {
     "iopub.execute_input": "2023-03-12T05:05:58.420654Z",
     "iopub.status.busy": "2023-03-12T05:05:58.42029Z",
     "iopub.status.idle": "2023-03-12T05:06:01.070564Z",
     "shell.execute_reply": "2023-03-12T05:06:01.069503Z",
     "shell.execute_reply.started": "2023-03-12T05:05:58.420623Z"
    }
   },
   "outputs": [],
   "source": [
    "model = InkDetector().to(DEVICE)"
   ]
  },
  {
   "cell_type": "markdown",
   "metadata": {},
   "source": [
    "### Train"
   ]
  },
  {
   "cell_type": "code",
   "execution_count": 15,
   "metadata": {
    "execution": {
     "iopub.execute_input": "2023-03-12T05:06:03.441686Z",
     "iopub.status.busy": "2023-03-12T05:06:03.441194Z",
     "iopub.status.idle": "2023-03-12T05:06:03.446722Z",
     "shell.execute_reply": "2023-03-12T05:06:03.445521Z",
     "shell.execute_reply.started": "2023-03-12T05:06:03.44164Z"
    }
   },
   "outputs": [],
   "source": [
    "TRAINING_STEPS = 5000\n",
    "LEARNING_RATE = 1e-3\n",
    "TRAIN_RUN = False # To avoid re-running when saving the notebook"
   ]
  },
  {
   "cell_type": "code",
   "execution_count": 38,
   "metadata": {
    "execution": {
     "iopub.execute_input": "2023-03-12T06:46:21.161623Z",
     "iopub.status.busy": "2023-03-12T06:46:21.160717Z",
     "iopub.status.idle": "2023-03-12T06:46:21.165818Z",
     "shell.execute_reply": "2023-03-12T06:46:21.164658Z",
     "shell.execute_reply.started": "2023-03-12T06:46:21.161586Z"
    }
   },
   "outputs": [],
   "source": [
    "warnings.simplefilter('ignore', UndefinedMetricWarning)"
   ]
  },
  {
   "cell_type": "code",
   "execution_count": 16,
   "metadata": {
    "execution": {
     "iopub.execute_input": "2023-03-12T05:08:00.458519Z",
     "iopub.status.busy": "2023-03-12T05:08:00.458133Z",
     "iopub.status.idle": "2023-03-12T05:56:18.07033Z",
     "shell.execute_reply": "2023-03-12T05:56:18.069165Z",
     "shell.execute_reply.started": "2023-03-12T05:08:00.458481Z"
    }
   },
   "outputs": [],
   "source": [
    "if TRAIN_RUN:\n",
    "    criterion = nn.BCEWithLogitsLoss()\n",
    "    optimizer = optim.SGD(model.parameters(), lr=LEARNING_RATE)\n",
    "    scheduler = torch.optim.lr_scheduler.OneCycleLR(optimizer, max_lr=LEARNING_RATE, total_steps=TRAINING_STEPS)\n",
    "    model.train()\n",
    "    \n",
    "    # We will use these to visualize training\n",
    "    train_loss_plot=[] \n",
    "    train_accuracy_plot=[]\n",
    "    train_fbeta_plot=[]\n",
    "    \n",
    "    #This is again the example code\n",
    "    \n",
    "    running_loss = 0.0\n",
    "    running_accuracy = 0.0\n",
    "    running_fbeta = 0.0\n",
    "    denom = 0\n",
    "    pbar = tqdm(enumerate(train_loader), total=TRAINING_STEPS)\n",
    "    for i, (subvolumes, inklabels) in pbar:\n",
    "        if i >= TRAINING_STEPS:\n",
    "            break\n",
    "        optimizer.zero_grad()\n",
    "        outputs = model(subvolumes.to(DEVICE))\n",
    "        loss = criterion(outputs, inklabels.to(DEVICE))\n",
    "        loss.backward()\n",
    "        optimizer.step()\n",
    "        scheduler.step()\n",
    "        pred_ink = outputs.detach().sigmoid().gt(0.4).int()\n",
    "        accuracy = (pred_ink == inklabels).sum().float().div(inklabels.size(0))\n",
    "        running_fbeta += fbeta_score(inklabels.view(-1).cpu().numpy(), pred_ink.view(-1).cpu().numpy(), beta=0.5)\n",
    "        running_accuracy += accuracy.item()\n",
    "        running_loss += loss.item()\n",
    "        denom += 1\n",
    "        pbar.set_postfix({\"Loss\": running_loss / denom, \"Accuracy\": running_accuracy / denom, \"Fbeta@0.5\": running_fbeta / denom})\n",
    "        if (i + 1) % 500 == 0:\n",
    "            train_loss_plot.append(running_loss / denom) # Used for plotting training loss\n",
    "            train_accuracy_plot.append(running_accuracy / denom) # Used for plotting training accuracy\n",
    "            train_fbeta_plot.append(running_fbeta / denom) # Used for plotting training fbeta\n",
    "            running_loss = 0.\n",
    "            running_accuracy = 0.\n",
    "            running_fbeta = 0.\n",
    "            denom = 0\n",
    "\n",
    "    torch.save(model.state_dict(), \"model1.pt\")\n",
    "\n",
    "else:\n",
    "    model_weights = torch.load(\"model1.pt\")\n",
    "    model.load_state_dict(model_weights)"
   ]
  },
  {
   "cell_type": "markdown",
   "metadata": {},
   "source": [
    "Let us visualise the training loss, accuracy and fbeta as the network trains!"
   ]
  },
  {
   "cell_type": "code",
   "execution_count": null,
   "metadata": {},
   "outputs": [],
   "source": [
    "if TRAIN_RUN:\n",
    "    # Plotting the training_loss vs epochs\n",
    "    plt.plot(train_loss_plot)\n",
    "    plt.xlabel('epoch')\n",
    "    plt.ylabel('training loss')\n",
    "    plt.title(\"Training Loss\")\n",
    "    plt.savefig(\"train_loss_plot.png\", format=\"png\")\n",
    "    plt.show()\n",
    "\n",
    "    # Plotting the training accuracy\n",
    "    plt.plot(train_accuracy_plot)\n",
    "    plt.xlabel('epoch')\n",
    "    plt.ylabel('training accuracy')\n",
    "    plt.title(\"Training Accuracy\")\n",
    "    plt.savefig(\"train_accuracy_plot.png\", format=\"png\")\n",
    "    plt.show()\n",
    "\n",
    "    # Plotting the training fbeta@0.5\n",
    "    plt.plot(train_fbeta_plot)\n",
    "    plt.xlabel('epoch')\n",
    "    plt.ylabel('training fbeta')\n",
    "    plt.title(\"Training F-Beta\")\n",
    "    plt.savefig(\"train_fbeta_plot.png\", format=\"png\")\n",
    "    plt.show()\n"
   ]
  },
  {
   "cell_type": "markdown",
   "metadata": {},
   "source": [
    "### Evaluate"
   ]
  },
  {
   "cell_type": "code",
   "execution_count": 18,
   "metadata": {},
   "outputs": [
    {
     "data": {
      "text/plain": [
       "50"
      ]
     },
     "execution_count": 18,
     "metadata": {},
     "output_type": "execute_result"
    }
   ],
   "source": [
    "# Clear memory before loading test fragments\n",
    "train_dset.labels = None\n",
    "train_dset.image_stacks = []\n",
    "del train_loader, train_dset\n",
    "gc.collect()"
   ]
  },
  {
   "cell_type": "code",
   "execution_count": null,
   "metadata": {},
   "outputs": [],
   "source": []
  },
  {
   "cell_type": "code",
   "execution_count": 19,
   "metadata": {
    "execution": {
     "iopub.execute_input": "2023-03-12T05:56:45.592504Z",
     "iopub.status.busy": "2023-03-12T05:56:45.591542Z",
     "iopub.status.idle": "2023-03-12T05:56:45.610137Z",
     "shell.execute_reply": "2023-03-12T05:56:45.60915Z",
     "shell.execute_reply.started": "2023-03-12T05:56:45.592423Z"
    }
   },
   "outputs": [
    {
     "name": "stdout",
     "output_type": "stream",
     "text": [
      "All fragments: [PosixPath('train/test/b'), PosixPath('train/test/a')]\n"
     ]
    }
   ],
   "source": [
    "test_path = base_path / \"test\"\n",
    "test_fragments = [train_path / fragment_name for fragment_name in test_path.iterdir()]\n",
    "print(\"All fragments:\", test_fragments)"
   ]
  },
  {
   "cell_type": "code",
   "execution_count": 26,
   "metadata": {
    "execution": {
     "iopub.execute_input": "2023-03-12T06:42:01.349882Z",
     "iopub.status.busy": "2023-03-12T06:42:01.348847Z",
     "iopub.status.idle": "2023-03-12T06:42:06.085811Z",
     "shell.execute_reply": "2023-03-12T06:42:06.084768Z",
     "shell.execute_reply.started": "2023-03-12T06:42:01.349834Z"
    }
   },
   "outputs": [
    {
     "name": "stderr",
     "output_type": "stream",
     "text": [
      "100%|██████████| 20833/20833 [03:22<00:00, 102.93it/s]\n"
     ]
    }
   ],
   "source": [
    "pred_images = []\n",
    "model.eval()\n",
    "\n",
    "outputs = []\n",
    "eval_dset = SubvolumeDataset(image_stack, label, pixels_inside_rect)\n",
    "eval_loader = data.DataLoader(eval_dset, batch_size=BATCH_SIZE, shuffle=False)\n",
    "with torch.no_grad():\n",
    "    for i, (subvolumes, _) in enumerate(tqdm(eval_loader)):\n",
    "        output = model(subvolumes.to(DEVICE)).view(-1).sigmoid().cpu().numpy()\n",
    "        outputs.append(output)\n",
    "# we only load 1 fragment at a time\n",
    "image_shape = eval_dset.image_stack[0].shape\n",
    "eval_dset.labels = None\n",
    "eval_dset.image_stack = None\n",
    "del eval_loader\n",
    "gc.collect()\n",
    "\n",
    "pred_image = np.zeros(image_shape, dtype=np.uint8)\n",
    "outputs = np.concatenate(outputs)\n",
    "for (y, x), prob in zip(eval_dset.pixels[:outputs.shape[0]], outputs):\n",
    "    pred_image[y ,x] = prob > 0.4\n",
    "pred_images.append(pred_image)\n",
    "    \n",
    "eval_dset.pixels = None\n",
    "del eval_dset\n",
    "gc.collect()\n",
    "#print(\"Finished\", test_fragment)"
   ]
  },
  {
   "cell_type": "code",
   "execution_count": 40,
   "metadata": {
    "execution": {
     "iopub.execute_input": "2023-03-12T06:42:17.30664Z",
     "iopub.status.busy": "2023-03-12T06:42:17.305738Z",
     "iopub.status.idle": "2023-03-12T06:42:17.990385Z",
     "shell.execute_reply": "2023-03-12T06:42:17.989267Z",
     "shell.execute_reply.started": "2023-03-12T06:42:17.306591Z"
    }
   },
   "outputs": [
    {
     "data": {
      "text/plain": [
       "<matplotlib.image.AxesImage at 0x7fff9c1c0c40>"
      ]
     },
     "execution_count": 40,
     "metadata": {},
     "output_type": "execute_result"
    },
    {
     "data": {
      "image/png": "[encoded data removed]",
      "text/plain": [
       "<Figure size 432x288 with 1 Axes>"
      ]
     },
     "metadata": {
      "needs_background": "light"
     },
     "output_type": "display_data"
    }
   ],
   "source": [
    "plt.imshow(pred_images[0], cmap='gray')"
   ]
  },
  {
   "cell_type": "code",
   "execution_count": null,
   "metadata": {},
   "outputs": [],
   "source": []
  },
  {
   "cell_type": "code",
   "execution_count": null,
   "metadata": {},
   "outputs": [],
   "source": []
  },
  {
   "cell_type": "code",
   "execution_count": null,
   "metadata": {},
   "outputs": [],
   "source": []
  },
  {
   "cell_type": "code",
   "execution_count": 37,
   "metadata": {},
   "outputs": [],
   "source": []
  },
  {
   "cell_type": "code",
   "execution_count": null,
   "metadata": {},
   "outputs": [],
   "source": []
  },
  {
   "cell_type": "markdown",
   "metadata": {},
   "source": [
    "### Submission"
   ]
  },
  {
   "cell_type": "code",
   "execution_count": null,
   "metadata": {
    "execution": {
     "iopub.execute_input": "2023-03-12T06:42:21.288286Z",
     "iopub.status.busy": "2023-03-12T06:42:21.28772Z",
     "iopub.status.idle": "2023-03-12T06:42:21.297229Z",
     "shell.execute_reply": "2023-03-12T06:42:21.296139Z",
     "shell.execute_reply.started": "2023-03-12T06:42:21.288245Z"
    }
   },
   "outputs": [],
   "source": [
    "def rle(output):\n",
    "    flat_img = np.where(output > 0.4, 1, 0).astype(np.uint8)\n",
    "    starts = np.array((flat_img[:-1] == 0) & (flat_img[1:] == 1))\n",
    "    ends = np.array((flat_img[:-1] == 1) & (flat_img[1:] == 0))\n",
    "    starts_ix = np.where(starts)[0] + 2\n",
    "    ends_ix = np.where(ends)[0] + 2\n",
    "    lengths = ends_ix - starts_ix\n",
    "    return \" \".join(map(str, sum(zip(starts_ix, lengths), ())))"
   ]
  },
  {
   "cell_type": "code",
   "execution_count": null,
   "metadata": {
    "execution": {
     "iopub.execute_input": "2023-03-12T06:43:13.835159Z",
     "iopub.status.busy": "2023-03-12T06:43:13.834801Z",
     "iopub.status.idle": "2023-03-12T06:43:46.718007Z",
     "shell.execute_reply": "2023-03-12T06:43:46.716939Z",
     "shell.execute_reply.started": "2023-03-12T06:43:13.835129Z"
    }
   },
   "outputs": [],
   "source": [
    "submission = defaultdict(list)\n",
    "for fragment_id, fragment_name in enumerate(test_fragments):\n",
    "    submission[\"Id\"].append(fragment_name.name)\n",
    "    submission[\"Predicted\"].append(rle(pred_images[fragment_id]))\n",
    "\n",
    "pd.DataFrame.from_dict(submission).to_csv(\"/kaggle/working/submission.csv\", index=False)"
   ]
  },
  {
   "cell_type": "code",
   "execution_count": null,
   "metadata": {
    "execution": {
     "iopub.execute_input": "2023-03-12T06:44:18.809054Z",
     "iopub.status.busy": "2023-03-12T06:44:18.808586Z",
     "iopub.status.idle": "2023-03-12T06:44:18.842048Z",
     "shell.execute_reply": "2023-03-12T06:44:18.840402Z",
     "shell.execute_reply.started": "2023-03-12T06:44:18.809014Z"
    }
   },
   "outputs": [],
   "source": [
    "pd.DataFrame.from_dict(submission)"
   ]
  }
 ],
 "metadata": {
  "kernelspec": {
   "display_name": "Python [conda env:cosmoflow]",
   "language": "python",
   "name": "conda-env-cosmoflow-py"
  },
  "language_info": {
   "codemirror_mode": {
    "name": "ipython",
    "version": 3
   },
   "file_extension": ".py",
   "mimetype": "text/x-python",
   "name": "python",
   "nbconvert_exporter": "python",
   "pygments_lexer": "ipython3",
   "version": "3.8.0"
  }
 },
 "nbformat": 4,
 "nbformat_minor": 4
}
